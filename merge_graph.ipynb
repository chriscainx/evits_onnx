{
 "cells": [
  {
   "cell_type": "code",
   "execution_count": 1,
   "metadata": {},
   "outputs": [],
   "source": [
    "import onnx\n",
    "import copy"
   ]
  },
  {
   "cell_type": "code",
   "execution_count": 16,
   "metadata": {},
   "outputs": [],
   "source": [
    "flow = onnx.load(\"evits_onnx/flow.onnx\")\n",
    "dec = onnx.load(\"evits_onnx/dec.onnx\")"
   ]
  },
  {
   "cell_type": "code",
   "execution_count": 3,
   "metadata": {},
   "outputs": [
    {
     "data": {
      "text/plain": [
       "533"
      ]
     },
     "execution_count": 3,
     "metadata": {},
     "output_type": "execute_result"
    }
   ],
   "source": [
    "len(flow.graph.node)"
   ]
  },
  {
   "cell_type": "code",
   "execution_count": 4,
   "metadata": {},
   "outputs": [
    {
     "data": {
      "text/plain": [
       "200"
      ]
     },
     "execution_count": 4,
     "metadata": {},
     "output_type": "execute_result"
    }
   ],
   "source": [
    "len(dec.graph.node)"
   ]
  },
  {
   "cell_type": "code",
   "execution_count": 17,
   "metadata": {},
   "outputs": [],
   "source": [
    "mul = onnx.helper.make_node(op_type='Mul', inputs=['z', 'y_mask'], outputs=['z_out'], name=\"Mul_out\")\n",
    "flow.graph.node.append(mul)\n",
    "\n",
    "for node in dec.graph.node:\n",
    "    for i in range(len(node.input)):\n",
    "        node.input[i] = \"dec_\" + node.input[i]\n",
    "    for i in range(len(node.output)):\n",
    "        node.output[i] = \"dec_\" + node.output[i]\n",
    "    node.name = \"dec_\" + node.name\n",
    "    flow.graph.node.append(node)\n",
    "\n",
    "for weight in dec.graph.initializer:\n",
    "    weight.name = \"dec_\" + weight.name\n",
    "    flow.graph.initializer.append(weight)\n",
    "\n",
    "_ = flow.graph.output.pop()\n",
    "\n",
    "flow.graph.output.append(dec.graph.output[0])\n",
    "flow.graph.output[0].name = \"dec_o\"\n",
    "flow.graph.node[534].input[0] = \"z_out\"\n"
   ]
  },
  {
   "cell_type": "code",
   "execution_count": 18,
   "metadata": {},
   "outputs": [],
   "source": [
    "onnx.save(flow, \"flow_dec.onnx\")"
   ]
  },
  {
   "cell_type": "code",
   "execution_count": null,
   "metadata": {},
   "outputs": [],
   "source": []
  }
 ],
 "metadata": {
  "kernelspec": {
   "display_name": "env",
   "language": "python",
   "name": "python3"
  },
  "language_info": {
   "codemirror_mode": {
    "name": "ipython",
    "version": 3
   },
   "file_extension": ".py",
   "mimetype": "text/x-python",
   "name": "python",
   "nbconvert_exporter": "python",
   "pygments_lexer": "ipython3",
   "version": "3.9.6"
  },
  "orig_nbformat": 4
 },
 "nbformat": 4,
 "nbformat_minor": 2
}
